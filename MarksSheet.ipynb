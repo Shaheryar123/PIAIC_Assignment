{
 "cells": [
  {
   "cell_type": "code",
   "execution_count": 3,
   "metadata": {},
   "outputs": [
    {
     "name": "stdout",
     "output_type": "stream",
     "text": [
      "Enter marks obtained in 5 subjects and total marks of all subjects: \n",
      "Please Enter marks in 1st subject: 50\n",
      "Please Enter marks in 2nd subject: 60\n",
      "Please Enter marks in 3rd subject: 55\n",
      "Please Enter marks in 4th subject: 80\n",
      "Please Enter marks in 5th subject: 75\n",
      "Please Enter total marks: 500\n",
      "Your Grade is B\n"
     ]
    }
   ],
   "source": [
    "print(\"Enter marks obtained in 5 subjects and total marks of all subjects: \");\n",
    "mark1 = int(input('Please Enter marks in 1st subject: '));\n",
    "mark2 = int(input('Please Enter marks in 2nd subject: '));\n",
    "mark3 = int(input('Please Enter marks in 3rd subject: '));\n",
    "mark4 = int(input('Please Enter marks in 4th subject: '));\n",
    "mark5 = int(input('Please Enter marks in 5th subject: '));\n",
    "total_marks =  int(input('Please Enter total marks: '));\n",
    "sum = mark1 + mark2 + mark3 + mark4 + mark5;\n",
    "average = sum/total_marks * 100;\n",
    "if(average>=91 and average<=100):\n",
    "    print(\"Your Grade is A+\");\n",
    "elif(average>=81 and average<=90):\n",
    "    print(\"Your Grade is A\");\n",
    "elif(average>=71 and average<=80):\n",
    "    print(\"Your Grade is B+\");\n",
    "elif(average>=61 and average<=70):\n",
    "    print(\"Your Grade is B\");\n",
    "elif(average>=51 and average<=60):\n",
    "    print(\"Your Grade is C+\");\n",
    "elif(average>=41 and average<=50):\n",
    "    print(\"Your Grade is C\");\n",
    "else:\n",
    "    print(\"Your Grade is F\");"
   ]
  },
  {
   "cell_type": "code",
   "execution_count": null,
   "metadata": {
    "collapsed": true
   },
   "outputs": [],
   "source": []
  }
 ],
 "metadata": {
  "kernelspec": {
   "display_name": "Python 3",
   "language": "python",
   "name": "python3"
  },
  "language_info": {
   "codemirror_mode": {
    "name": "ipython",
    "version": 3
   },
   "file_extension": ".py",
   "mimetype": "text/x-python",
   "name": "python",
   "nbconvert_exporter": "python",
   "pygments_lexer": "ipython3",
   "version": "3.6.1"
  }
 },
 "nbformat": 4,
 "nbformat_minor": 2
}
