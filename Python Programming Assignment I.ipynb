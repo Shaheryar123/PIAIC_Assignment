{
 "cells": [
  {
   "cell_type": "markdown",
   "metadata": {},
   "source": [
    "# 1. Calculate Area of a Circle"
   ]
  },
  {
   "cell_type": "code",
   "execution_count": 5,
   "metadata": {},
   "outputs": [
    {
     "name": "stdout",
     "output_type": "stream",
     "text": [
      "Please Enter radius: 0.5\n",
      "Area of a Circle with radius 0.5 is 0.7853981633974483\n"
     ]
    }
   ],
   "source": [
    "import math\n",
    "radius = float(input(\"Please Enter radius: \"))\n",
    "Area = math.pi * radius**2\n",
    "print(\"Area of a Circle with radius \" + str(radius) + \" is \" + str(Area))"
   ]
  },
  {
   "cell_type": "markdown",
   "metadata": {},
   "source": [
    "# 2. Check Number either positive, negative or zero"
   ]
  },
  {
   "cell_type": "code",
   "execution_count": 10,
   "metadata": {},
   "outputs": [
    {
     "name": "stdout",
     "output_type": "stream",
     "text": [
      "Please Enter a Number: -12\n",
      "Negative Number Entered\n"
     ]
    }
   ],
   "source": [
    "number = float(input(\"Please Enter a Number: \"))\n",
    "if number < 0:\n",
    "    print(\"Negative Number Entered\")\n",
    "if number == 0:\n",
    "    print(\"Zero Entered\")\n",
    "if number > 0:\n",
    "    print(\"Positive Number Entered\")"
   ]
  },
  {
   "cell_type": "markdown",
   "metadata": {},
   "source": [
    "# 3. Divisibility Check of two numbers"
   ]
  },
  {
   "cell_type": "code",
   "execution_count": 21,
   "metadata": {},
   "outputs": [
    {
     "name": "stdout",
     "output_type": "stream",
     "text": [
      "Please Enter Numerator: 4\n",
      "Please Enter Denominator: 2\n",
      "Number 4 is completely divisible by 2\n"
     ]
    }
   ],
   "source": [
    "numerator = int(input(\"Please Enter Numerator: \"))\n",
    "denominator = int(input(\"Please Enter Denominator: \"))\n",
    "if numerator % denominator == 0:\n",
    "    print(\"Number \" + str(numerator) + \" is completely divisible by \" + str(denominator))\n",
    "else:\n",
    "    print(\"Number \" + str(numerator) + \" is not completely divisible by \" + str(denominator))"
   ]
  },
  {
   "cell_type": "markdown",
   "metadata": {},
   "source": [
    "# 4. Days Calculator"
   ]
  },
  {
   "cell_type": "code",
   "execution_count": 18,
   "metadata": {},
   "outputs": [
    {
     "name": "stdout",
     "output_type": "stream",
     "text": [
      "Please Enter 1st Date in (dd/mm/yyyy) format: 12/12/2018\n",
      "Please Enter 2nd Date in (dd/mm/yyyy) format: 16/12/2018\n",
      "There are 4 days in between 12/12/2018 and 16/12/2018\n"
     ]
    }
   ],
   "source": [
    "import datetime\n",
    "earlyDate = input(\"Please Enter 1st Date in (dd/mm/yyyy) format: \")\n",
    "latestDate = input(\"Please Enter 2nd Date in (dd/mm/yyyy) format: \")\n",
    "\n",
    "a =  \"%d/%m/%Y\"\n",
    "\n",
    "date1 = datetime.datetime.strptime(earlyDate, a)\n",
    "date2 = datetime.datetime.strptime(latestDate,a)\n",
    "\n",
    "differenceInDays = date2 - date1\n",
    "\n",
    "print(\"There are \"+ str(differenceInDays.days) + \" days in between \" + str(earlyDate) + \" and \" + str(latestDate))\n"
   ]
  },
  {
   "cell_type": "markdown",
   "metadata": {
    "collapsed": true
   },
   "source": [
    "# 5. Calculate Volume of a sphere"
   ]
  },
  {
   "cell_type": "code",
   "execution_count": 22,
   "metadata": {},
   "outputs": [
    {
     "name": "stdout",
     "output_type": "stream",
     "text": [
      "Please Enter radius of Sphere: 1\n",
      "Volume of a Sphere with radius 1.0 is 4.18879\n"
     ]
    }
   ],
   "source": [
    "import math\n",
    "radius = float(input(\"Please Enter radius of Sphere: \"))\n",
    "volume = round(((4/3) * math.pi * radius**2), 6)\n",
    "print(\"Volume of a Sphere with radius \" + str(radius) + \" is \" + str(volume))"
   ]
  },
  {
   "cell_type": "markdown",
   "metadata": {},
   "source": [
    "# 6. Copy string n times"
   ]
  },
  {
   "cell_type": "code",
   "execution_count": 23,
   "metadata": {},
   "outputs": [
    {
     "name": "stdout",
     "output_type": "stream",
     "text": [
      "Please Enter String: Hi\n",
      "How many copies of string you need: 4\n",
      "4 copies of Hi are HiHiHiHi\n"
     ]
    }
   ],
   "source": [
    "string = input(\"Please Enter String: \")\n",
    "timesOfCopies = int(input(\"How many copies of string you need: \"))\n",
    "noOfCopies = string * timesOfCopies\n",
    "print(str(timesOfCopies) + \" copies of \" + string + \" are \" + noOfCopies)"
   ]
  },
  {
   "cell_type": "markdown",
   "metadata": {},
   "source": [
    "# 7. Check if number is Even or Odd"
   ]
  },
  {
   "cell_type": "code",
   "execution_count": 30,
   "metadata": {},
   "outputs": [
    {
     "name": "stdout",
     "output_type": "stream",
     "text": [
      "Please Enter a whole number: 9\n",
      "9 is a Odd Number.\n"
     ]
    }
   ],
   "source": [
    "number = int(input(\"Please Enter a whole number: \"))\n",
    "if number % 2 == 0:\n",
    "    print(str(number) + \" is an Even Number.\")\n",
    "else:\n",
    "    print(str(number) + \" is a Odd Number.\")"
   ]
  },
  {
   "cell_type": "markdown",
   "metadata": {},
   "source": [
    "# 8. Vowel Tester"
   ]
  },
  {
   "cell_type": "code",
   "execution_count": 70,
   "metadata": {},
   "outputs": [
    {
     "name": "stdout",
     "output_type": "stream",
     "text": [
      "Please Enter a Character: a\n",
      "Letter A is a vowel.\n"
     ]
    }
   ],
   "source": [
    "character = input(\"Please Enter a Character: \").upper()\n",
    "vowels = \"AEIOU\"\n",
    "if character in vowels:\n",
    "    print(\"Letter \"+ character + \" is a vowel.\")\n",
    "else:\n",
    "    print(\"Letter \"+ character + \" is not a vowel.\")"
   ]
  },
  {
   "cell_type": "markdown",
   "metadata": {},
   "source": [
    "## 9. Triangle area"
   ]
  },
  {
   "cell_type": "code",
   "execution_count": 71,
   "metadata": {},
   "outputs": [
    {
     "name": "stdout",
     "output_type": "stream",
     "text": [
      "Please enter magnitude of Triangle base: 4\n",
      "Please enter magnitude of Triangle height: 4\n",
      "Area of a Triangel with base 4.0 and height 4.0 is 8.0\n"
     ]
    }
   ],
   "source": [
    "base = float(input(\"Please enter magnitude of Triangle base: \"))\n",
    "height = float(input(\"Please enter magnitude of Triangle height: \"))\n",
    "area = (base * height) / 2\n",
    "print(\"Area of a Triangel with base \" + str(base) + \" and height \"+ str(height) + \" is \"+ str(area))"
   ]
  },
  {
   "cell_type": "markdown",
   "metadata": {},
   "source": [
    "## 10. Calculate Interest"
   ]
  },
  {
   "cell_type": "code",
   "execution_count": 78,
   "metadata": {},
   "outputs": [
    {
     "name": "stdout",
     "output_type": "stream",
     "text": [
      "Please enter principal amount: 10000\n",
      "Please Enter Rate of interest in %: 0.1\n",
      "Please Enter number of years for investment: 5\n",
      "After 5 years your principle amount 10000 over an interst rate of 0.1 will be 16105.1\n"
     ]
    }
   ],
   "source": [
    "Pamount = int(input(\"Please enter principal amount: \"))\n",
    "Rinterest = float(input(\"Please Enter Rate of interest in %: \"))\n",
    "Yinvestment = int(input(\"Please Enter number of years for investment: \"))\n",
    "\n",
    "Fvalue = round(((1+Rinterest)**Yinvestment * Pamount), 2)\n",
    "print(\"After \" + str(Yinvestment) + \" years your principle amount \" + str(Pamount) + \" over an interst rate of \" + str(Rinterest) + \" will be \" + str(Fvalue))"
   ]
  },
  {
   "cell_type": "markdown",
   "metadata": {},
   "source": [
    "## 11. Euclidean distance"
   ]
  },
  {
   "cell_type": "code",
   "execution_count": 85,
   "metadata": {},
   "outputs": [
    {
     "name": "stdout",
     "output_type": "stream",
     "text": [
      "Please Enter Co-ordinate for x1: 2\n",
      "Please Enter Co-ordinate for x2: 4\n",
      "Please Enter Co-ordinate for y1: 4\n",
      "Please Enter Co-ordinate for y2: 4\n",
      "The distance between points (2,4) and (4,4) is 2.0\n"
     ]
    }
   ],
   "source": [
    "import math\n",
    "x1 = int(input(\"Please Enter Co-ordinate for x1: \"))\n",
    "x2 = int(input(\"Please Enter Co-ordinate for x2: \"))\n",
    "y1 = int(input(\"Please Enter Co-ordinate for y1: \"))\n",
    "y2 = int(input(\"Please Enter Co-ordinate for y2: \"))\n",
    "\n",
    "euclidean_distance = math.sqrt((x1 - y1)**2 +(x2 - y2)**2)\n",
    "\n",
    "print(\"The distance between points (\" +str(x1) + \",\" +str(x2) + \") and (\" +str(y1) + \",\" +str(y2) + \") is \" + str(euclidean_distance))"
   ]
  },
  {
   "cell_type": "markdown",
   "metadata": {},
   "source": [
    "## 12. Feet to Centimeter Converter"
   ]
  },
  {
   "cell_type": "code",
   "execution_count": 87,
   "metadata": {},
   "outputs": [
    {
     "name": "stdout",
     "output_type": "stream",
     "text": [
      "Please Enter Height in Feet: 5\n",
      "There are 152.4 in 5 ft.\n"
     ]
    }
   ],
   "source": [
    "feet = int(input(\"Please Enter Height in Feet: \"))\n",
    "centimeter = round((feet * 30.48), 2)\n",
    "print(\"There are \" + str(centimeter) + \" in \" + str(feet) + \" ft.\")"
   ]
  },
  {
   "cell_type": "markdown",
   "metadata": {},
   "source": [
    "## 13. BMI Calculator"
   ]
  },
  {
   "cell_type": "code",
   "execution_count": 90,
   "metadata": {},
   "outputs": [
    {
     "name": "stdout",
     "output_type": "stream",
     "text": [
      "Please Enter Height in Cm: 180\n",
      "Please Enter Weight in Kg: 75\n",
      "Your BMI is: 23.15\n"
     ]
    }
   ],
   "source": [
    "height = int(input(\"Please Enter Height in Cm: \"))\n",
    "weight = int(input(\"Please Enter Weight in Kg: \"))\n",
    "bmi = round((weight / (height/100)**2), 2)\n",
    "print(\"Your BMI is: \" + str(bmi))"
   ]
  },
  {
   "cell_type": "markdown",
   "metadata": {},
   "source": [
    "## 14. Sum of n Positive Integers"
   ]
  },
  {
   "cell_type": "code",
   "execution_count": 102,
   "metadata": {},
   "outputs": [
    {
     "name": "stdout",
     "output_type": "stream",
     "text": [
      "Please enter value of n: 5\n",
      "Sum of n Positive integars till 5 is 15\n"
     ]
    }
   ],
   "source": [
    "value = int(input(\"Please enter value of n: \"))\n",
    "sum = 0\n",
    "for i in range(0, value+1):\n",
    "    sum += i\n",
    "print(\"Sum of n Positive integars till \" + str(value) + \" is \" + str(sum))"
   ]
  },
  {
   "cell_type": "markdown",
   "metadata": {},
   "source": [
    "## 15. Digits Sum of a Number"
   ]
  },
  {
   "cell_type": "code",
   "execution_count": 138,
   "metadata": {},
   "outputs": [
    {
     "name": "stdout",
     "output_type": "stream",
     "text": [
      "Please enter value of n: 15\n",
      "sum of digits of number 15 is 6\n"
     ]
    }
   ],
   "source": [
    "value = input(\"Please enter value of n: \")\n",
    "sum = []\n",
    "for i in range(len(value)):\n",
    "    z = int(value[i])\n",
    "    sum. append(z)\n",
    "\n",
    "sum_of_digit = 0\n",
    "for digit in sum:\n",
    "    sum_of_digit += digit\n",
    "print(\"sum of digits of number \" + str(value) + \" is \" + str(sum_of_digit))"
   ]
  },
  {
   "cell_type": "markdown",
   "metadata": {},
   "source": [
    "## 16. Decimal to Binary Converter"
   ]
  },
  {
   "cell_type": "code",
   "execution_count": 203,
   "metadata": {},
   "outputs": [
    {
     "name": "stdout",
     "output_type": "stream",
     "text": [
      "Please Enter a decimal number: 32\n",
      "The binary representaion of is: \n",
      "100000"
     ]
    }
   ],
   "source": [
    "deci_number = int(input(\"Please Enter a decimal number: \"))\n",
    "binary_list = []\n",
    "while deci_number > 0:        \n",
    "        binary_list.append(deci_number % 2)\n",
    "        deci_number = deci_number // 2\n",
    "print(\"The binary representaion of is: \" ) \n",
    "binary_list.reverse()\n",
    "for value in binary_list:\n",
    "    print(value, end = '')"
   ]
  },
  {
   "cell_type": "markdown",
   "metadata": {},
   "source": [
    "## 17. Binary to Decimal Converter"
   ]
  },
  {
   "cell_type": "code",
   "execution_count": 3,
   "metadata": {},
   "outputs": [
    {
     "name": "stdout",
     "output_type": "stream",
     "text": [
      "Please Enter a Binary Number: 1101\n",
      "Decimal Representation of 1101 is 13\n"
     ]
    }
   ],
   "source": [
    "binary_number = input(\"Please Enter a Binary Number: \")\n",
    "deci_number = int(binary_number, 2)\n",
    "print(\"Decimal Representation of \"+ binary_number + \" is \" + str(deci_number))"
   ]
  },
  {
   "cell_type": "markdown",
   "metadata": {},
   "source": [
    "## 18. Vowel and Consonants Counter"
   ]
  },
  {
   "cell_type": "code",
   "execution_count": 6,
   "metadata": {},
   "outputs": [
    {
     "name": "stdout",
     "output_type": "stream",
     "text": [
      "Please enter text: QuickBrownFoxJumpsovertheDog\n",
      "Vowels: 9\n",
      "Consonents: 19\n"
     ]
    }
   ],
   "source": [
    "alphabets = input(\"Please enter text: \").lower()\n",
    "text = alphabets.replace(\" \", \"\")\n",
    "vowels = 0\n",
    "consonents = 0\n",
    "for value in text:\n",
    "    if value == 'a' or value == 'e' or value == 'i' or value == 'o' or value == 'u':\n",
    "        vowels += 1\n",
    "    else:\n",
    "        consonents += 1\n",
    "print('Vowels: '+ str(vowels))\n",
    "print('Consonents: '+ str(consonents))"
   ]
  },
  {
   "cell_type": "markdown",
   "metadata": {},
   "source": [
    "## 19. Palindrome tester"
   ]
  },
  {
   "cell_type": "code",
   "execution_count": 24,
   "metadata": {},
   "outputs": [
    {
     "name": "stdout",
     "output_type": "stream",
     "text": [
      "Please Enter Text: Hello\n",
      "Text Hello is not a Palindrome.\n"
     ]
    }
   ],
   "source": [
    "alphabets = input(\"Please Enter Text: \")\n",
    "reverse_text = alphabets[::-1]\n",
    "if alphabets == reverse_text:\n",
    "    print(\"Text \" + str(alphabets) + \" is a Palindrome.\")\n",
    "else:\n",
    "    print(\"Text \" + str(alphabets) + \" is not a Palindrome.\")"
   ]
  },
  {
   "cell_type": "markdown",
   "metadata": {},
   "source": [
    "## 20. Count Alphabets, Numbers and Special Characters"
   ]
  },
  {
   "cell_type": "code",
   "execution_count": 31,
   "metadata": {},
   "outputs": [
    {
     "name": "stdout",
     "output_type": "stream",
     "text": [
      "Please enter text: Python 3.5\n",
      "Numbers = 2\n",
      "Alphabets = 6\n",
      "Special Character = 1\n",
      "Spaces = 1\n"
     ]
    }
   ],
   "source": [
    "text = input(\"Please enter text: \")\n",
    "alphabets = 0\n",
    "numbers =0\n",
    "special_character = 0\n",
    "spaces = 0\n",
    "for value in range(len(text)):\n",
    "    if (text[value].isalpha()):\n",
    "        alphabets += 1\n",
    "    elif (text[value].isdigit()):\n",
    "        numbers += 1\n",
    "    elif (text[value].isspace()):\n",
    "        spaces += 1\n",
    "    else:\n",
    "        special_character += 1\n",
    "\n",
    "print('Numbers = ' + str(numbers))\n",
    "print('Alphabets = ' +str(alphabets))\n",
    "print('Special Character = ' + str(special_character))\n",
    "print('Spaces = ' +str(spaces))"
   ]
  },
  {
   "cell_type": "markdown",
   "metadata": {},
   "source": [
    "## 21. Write a Python program to construct the following pattern"
   ]
  },
  {
   "cell_type": "code",
   "execution_count": 90,
   "metadata": {},
   "outputs": [
    {
     "name": "stdout",
     "output_type": "stream",
     "text": [
      "*\n",
      "* *\n",
      "* * *\n",
      "* * * *\n",
      "* * * * *\n",
      "* * * * * *\n",
      "* * * * *\n",
      "* * * *\n",
      "* * *\n",
      "* *\n",
      "*\n"
     ]
    }
   ],
   "source": [
    "for i in range(1,6):\n",
    "    print(' '.join('*'*i))\n",
    "for j in range(6, 0, -1):\n",
    "    print(' '.join('*'*j))"
   ]
  },
  {
   "cell_type": "markdown",
   "metadata": {},
   "source": [
    "## 22. Write a Python program to construct the following pattern"
   ]
  },
  {
   "cell_type": "code",
   "execution_count": 93,
   "metadata": {},
   "outputs": [
    {
     "name": "stdout",
     "output_type": "stream",
     "text": [
      "1\n",
      "2 2\n",
      "3 3 3\n",
      "4 4 4 4\n",
      "5 5 5 5 5\n",
      "4 4 4 4\n",
      "3 3 3\n",
      "2 2\n",
      "1\n"
     ]
    }
   ],
   "source": [
    "for i in range(1, 6):\n",
    "    print(' '.join(str(i)*i))\n",
    "for j in range (4, 0, -1):\n",
    "    print(' '.join(str(j)*j))"
   ]
  },
  {
   "cell_type": "markdown",
   "metadata": {},
   "source": [
    "## 23. Write a Python program to construct the following pattern"
   ]
  },
  {
   "cell_type": "code",
   "execution_count": 95,
   "metadata": {},
   "outputs": [
    {
     "name": "stdout",
     "output_type": "stream",
     "text": [
      "1\n",
      "22\n",
      "333\n",
      "4444\n",
      "55555\n",
      "666666\n",
      "7777777\n",
      "88888888\n",
      "999999999\n"
     ]
    }
   ],
   "source": [
    "for i in range(1, 10):\n",
    "    print(''.join(str(i)*i))"
   ]
  },
  {
   "cell_type": "code",
   "execution_count": null,
   "metadata": {
    "collapsed": true
   },
   "outputs": [],
   "source": []
  }
 ],
 "metadata": {
  "kernelspec": {
   "display_name": "Python 3",
   "language": "python",
   "name": "python3"
  },
  "language_info": {
   "codemirror_mode": {
    "name": "ipython",
    "version": 3
   },
   "file_extension": ".py",
   "mimetype": "text/x-python",
   "name": "python",
   "nbconvert_exporter": "python",
   "pygments_lexer": "ipython3",
   "version": "3.6.1"
  }
 },
 "nbformat": 4,
 "nbformat_minor": 2
}
